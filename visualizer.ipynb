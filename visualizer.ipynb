{
 "cells": [
  {
   "cell_type": "code",
   "metadata": {},
   "source": [
    "import plotly.io as pio\n",
    "import plotly.graph_objects as go\n",
    "import plotly.express as px\n",
    "import pandas as pd\n",
    "import numpy as np\n",
    "pio.renderers.default='notebook'"
   ],
   "outputs": [],
   "execution_count": null
  },
  {
   "cell_type": "code",
   "metadata": {},
   "source": [
    "old = pd.read_csv('prep_data_451_452(11).csv')\n",
    "new = pd.read_csv(\"prep_data_11.csv\")\n",
    "comparison_list = [old, new]"
   ],
   "outputs": [],
   "execution_count": null
  },
  {
   "cell_type": "code",
   "metadata": {},
   "source": [
    "for i in comparison_list:\n",
    "    field = [\"Ходы насоса(ход/мин)\"]\n",
    "    # fig = go.Figure( px.box(data_frame = old, x = field))\n",
    "    # fig.show()\n",
    "    line_fig = go.Figure(px.line(data_frame=i, x=\"datetime\", y=field))\n",
    "    line_fig.show()\n",
    "    print(\"Q3: {}\".format(np.quantile(i[\"Ходы насоса(ход/мин)\"], 0.75)))"
   ],
   "outputs": [],
   "execution_count": null
  },
  {
   "cell_type": "code",
   "metadata": {},
   "source": [
    "for i in old.columns:\n",
    "    if i != 'target':\n",
    "        fig = go.Figure( px.box(data_frame = old\n",
    "            ,x = i\n",
    "            ))\n",
    "        fig.show()"
   ],
   "outputs": [],
   "execution_count": null
  }
 ],
 "metadata": {
  "interpreter": {
   "hash": "7920a9f4dc97f7cb7cdaa9af49810a9836c471665cae1a88ad0a278ea91e9d6e"
  },
  "kernelspec": {
   "display_name": "Python 3.10.14 ('rigmodel310')",
   "language": "python",
   "name": "python3"
  },
  "language_info": {
   "codemirror_mode": {
    "name": "ipython",
    "version": 3
   },
   "file_extension": ".py",
   "mimetype": "text/x-python",
   "name": "python",
   "nbconvert_exporter": "python",
   "pygments_lexer": "ipython3",
   "version": "3.10.14"
  },
  "orig_nbformat": 4
 },
 "nbformat": 4,
 "nbformat_minor": 2
}
